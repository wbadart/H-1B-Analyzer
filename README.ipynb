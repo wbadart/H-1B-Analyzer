{
 "cells": [
  {
   "cell_type": "markdown",
   "metadata": {},
   "source": [
    "# Determining Predictors of H-1B Salary and Approval (Project *DPH*)\n",
    "\n",
    "## Project Documentation\n",
    "\n",
    "**Contributors:**\n",
    "- Wenhao Yu (netid: *wyu1*)\n",
    "- Luke Duane (netid: *lduane*)\n",
    "- Will Badart (netid: *wbadart*)\n",
    "\n",
    "This project aims to provide meaningful analyses of the factors that drive H-1B visa approval, and provide insightful, tangential analyses which provide business value to enterprises sponsoring H-1B employees. The project has been excecuted for Notre Dame *CSE 40647/ 60647 - Data Science* as specified in the [project instructions](http://www.meng-jiang.com/teaching/CSE647Spring18-Project.pdf)."
   ]
  },
  {
   "cell_type": "markdown",
   "metadata": {},
   "source": [
    "## Installation\n",
    "\n",
    "Running the project requires [Python 3](https://www.python.org/downloads/release/python-365/). To install the project to your system as a package, as well as its dependencies, run:\n",
    "\n",
    "    $ pip3 install git+https://github.com/wbadart/H-1B-Analyzer.git\n",
    "\n",
    "This will also add the project's several entry points to your path, for running the individual analyses directly from the command line (see [Usage](#Usage))."
   ]
  },
  {
   "cell_type": "markdown",
   "metadata": {},
   "source": [
    "## Generating the Report\n",
    "\n",
    "The source code of the report is available under [`docs/main.tex`](./docs/main.tex) if you need to compile it to anything other than a PDF. To compile, simple enter the documentation folder and run `make` (requires `pdflatex` to be installed and available on your `PATH`).\n",
    "\n",
    "```\n",
    "$ pwd\n",
    "/path/to/H-1B-Analyzer\n",
    "$ cd docs\n",
    "$ make\n",
    "```\n",
    "\n",
    "Otherwise, the complete compiled report is already checked into the repository as [`docs/Determining Predictors of H-1B Salary and Approval.pdf`](./docs/Determining Predictors of H-1B Salary and Approval.pdf)."
   ]
  },
  {
   "cell_type": "markdown",
   "metadata": {},
   "source": [
    "## Usage\n",
    "\n",
    "WIP"
   ]
  },
  {
   "cell_type": "code",
   "execution_count": null,
   "metadata": {},
   "outputs": [],
   "source": []
  }
 ],
 "metadata": {
  "kernelspec": {
   "display_name": "Python 3",
   "language": "python",
   "name": "python3"
  },
  "language_info": {
   "codemirror_mode": {
    "name": "ipython",
    "version": 3
   },
   "file_extension": ".py",
   "mimetype": "text/x-python",
   "name": "python",
   "nbconvert_exporter": "python",
   "pygments_lexer": "ipython3",
   "version": "3.6.5"
  }
 },
 "nbformat": 4,
 "nbformat_minor": 2
}
